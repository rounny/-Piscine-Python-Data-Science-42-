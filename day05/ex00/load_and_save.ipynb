{
  "cells": [
    {
      "cell_type": "code",
      "execution_count": 9,
      "metadata": {
        "id": "jv11IRFmVhBh"
      },
      "outputs": [],
      "source": [
        "import pandas as pd"
      ]
    },
    {
      "cell_type": "markdown",
      "metadata": {
        "id": "RGR2BbCuY_cV"
      },
      "source": [
        "# **read_csv:**"
      ]
    },
    {
      "cell_type": "code",
      "execution_count": 10,
      "metadata": {
        "colab": {
          "base_uri": "https://localhost:8080/",
          "height": 528
        },
        "id": "RNGHEg6qVpM5",
        "outputId": "9c73b806-b72d-42f9-bfc6-a8e31658650d"
      },
      "outputs": [
        {
          "name": "stderr",
          "output_type": "stream",
          "text": [
            "/var/folders/zz/zyxvpxvq6csfxvn_n00022q8000hnt/T/ipykernel_62892/3868424776.py:3: ParserWarning: Falling back to the 'python' engine because the 'c' engine does not support skipfooter; you can avoid this warning by specifying engine='python'.\n",
            "  df = pd.read_csv('../data/feed-views.log', skiprows=(2,3), skipfooter=2, names=['datetime', 'user'], sep='\\t', index_col='datetime')\n"
          ]
        },
        {
          "data": {
            "text/html": [
              "<div>\n",
              "<style scoped>\n",
              "    .dataframe tbody tr th:only-of-type {\n",
              "        vertical-align: middle;\n",
              "    }\n",
              "\n",
              "    .dataframe tbody tr th {\n",
              "        vertical-align: top;\n",
              "    }\n",
              "\n",
              "    .dataframe thead th {\n",
              "        text-align: right;\n",
              "    }\n",
              "</style>\n",
              "<table border=\"1\" class=\"dataframe\">\n",
              "  <thead>\n",
              "    <tr style=\"text-align: right;\">\n",
              "      <th></th>\n",
              "      <th>user</th>\n",
              "    </tr>\n",
              "    <tr>\n",
              "      <th>datetime</th>\n",
              "      <th></th>\n",
              "    </tr>\n",
              "  </thead>\n",
              "  <tbody>\n",
              "    <tr>\n",
              "      <th>2020-04-17 12:01:08.463179</th>\n",
              "      <td>artem</td>\n",
              "    </tr>\n",
              "    <tr>\n",
              "      <th>2020-04-17 12:01:23.743946</th>\n",
              "      <td>artem</td>\n",
              "    </tr>\n",
              "    <tr>\n",
              "      <th>2020-04-17 12:35:52.735016</th>\n",
              "      <td>artem</td>\n",
              "    </tr>\n",
              "    <tr>\n",
              "      <th>2020-04-17 12:36:21.401412</th>\n",
              "      <td>oksana</td>\n",
              "    </tr>\n",
              "    <tr>\n",
              "      <th>2020-04-17 12:36:22.023355</th>\n",
              "      <td>oksana</td>\n",
              "    </tr>\n",
              "    <tr>\n",
              "      <th>...</th>\n",
              "      <td>...</td>\n",
              "    </tr>\n",
              "    <tr>\n",
              "      <th>2020-05-21 16:36:40.915488</th>\n",
              "      <td>ekaterina</td>\n",
              "    </tr>\n",
              "    <tr>\n",
              "      <th>2020-05-21 17:49:36.429237</th>\n",
              "      <td>maxim</td>\n",
              "    </tr>\n",
              "    <tr>\n",
              "      <th>2020-05-21 18:45:20.441142</th>\n",
              "      <td>valentina</td>\n",
              "    </tr>\n",
              "    <tr>\n",
              "      <th>2020-05-21 23:03:06.457819</th>\n",
              "      <td>maxim</td>\n",
              "    </tr>\n",
              "    <tr>\n",
              "      <th>2020-05-21 23:23:49.995349</th>\n",
              "      <td>pavel</td>\n",
              "    </tr>\n",
              "  </tbody>\n",
              "</table>\n",
              "<p>1072 rows × 1 columns</p>\n",
              "</div>"
            ],
            "text/plain": [
              "                                 user\n",
              "datetime                             \n",
              "2020-04-17 12:01:08.463179      artem\n",
              "2020-04-17 12:01:23.743946      artem\n",
              "2020-04-17 12:35:52.735016      artem\n",
              "2020-04-17 12:36:21.401412     oksana\n",
              "2020-04-17 12:36:22.023355     oksana\n",
              "...                               ...\n",
              "2020-05-21 16:36:40.915488  ekaterina\n",
              "2020-05-21 17:49:36.429237      maxim\n",
              "2020-05-21 18:45:20.441142  valentina\n",
              "2020-05-21 23:03:06.457819      maxim\n",
              "2020-05-21 23:23:49.995349      pavel\n",
              "\n",
              "[1072 rows x 1 columns]"
            ]
          },
          "execution_count": 10,
          "metadata": {},
          "output_type": "execute_result"
        }
      ],
      "source": [
        "# если вы выполняется код из среды Google Colab, нужно подключить свой гугл-диск\n",
        "# from google.colab import drive  \n",
        "# drive.mount('/content/drive')\n",
        "df = pd.read_csv('../data/feed-views.log', skiprows=(2,3), skipfooter=2, names=['datetime', 'user'], sep='\\t', index_col='datetime')\n",
        "df"
      ]
    },
    {
      "cell_type": "markdown",
      "metadata": {
        "id": "_jiwfqSHZG0V"
      },
      "source": [
        "# **rename:**"
      ]
    },
    {
      "cell_type": "code",
      "execution_count": 11,
      "metadata": {
        "colab": {
          "base_uri": "https://localhost:8080/",
          "height": 455
        },
        "id": "0uvQSP7aWTEp",
        "outputId": "11e6d31c-d116-4543-e164-e9ba02257f1d"
      },
      "outputs": [
        {
          "data": {
            "text/html": [
              "<div>\n",
              "<style scoped>\n",
              "    .dataframe tbody tr th:only-of-type {\n",
              "        vertical-align: middle;\n",
              "    }\n",
              "\n",
              "    .dataframe tbody tr th {\n",
              "        vertical-align: top;\n",
              "    }\n",
              "\n",
              "    .dataframe thead th {\n",
              "        text-align: right;\n",
              "    }\n",
              "</style>\n",
              "<table border=\"1\" class=\"dataframe\">\n",
              "  <thead>\n",
              "    <tr style=\"text-align: right;\">\n",
              "      <th></th>\n",
              "      <th>user</th>\n",
              "    </tr>\n",
              "    <tr>\n",
              "      <th>date_time</th>\n",
              "      <th></th>\n",
              "    </tr>\n",
              "  </thead>\n",
              "  <tbody>\n",
              "    <tr>\n",
              "      <th>2020-04-17 12:01:08.463179</th>\n",
              "      <td>artem</td>\n",
              "    </tr>\n",
              "    <tr>\n",
              "      <th>2020-04-17 12:01:23.743946</th>\n",
              "      <td>artem</td>\n",
              "    </tr>\n",
              "    <tr>\n",
              "      <th>2020-04-17 12:35:52.735016</th>\n",
              "      <td>artem</td>\n",
              "    </tr>\n",
              "    <tr>\n",
              "      <th>2020-04-17 12:36:21.401412</th>\n",
              "      <td>oksana</td>\n",
              "    </tr>\n",
              "    <tr>\n",
              "      <th>2020-04-17 12:36:22.023355</th>\n",
              "      <td>oksana</td>\n",
              "    </tr>\n",
              "    <tr>\n",
              "      <th>...</th>\n",
              "      <td>...</td>\n",
              "    </tr>\n",
              "    <tr>\n",
              "      <th>2020-05-21 16:36:40.915488</th>\n",
              "      <td>ekaterina</td>\n",
              "    </tr>\n",
              "    <tr>\n",
              "      <th>2020-05-21 17:49:36.429237</th>\n",
              "      <td>maxim</td>\n",
              "    </tr>\n",
              "    <tr>\n",
              "      <th>2020-05-21 18:45:20.441142</th>\n",
              "      <td>valentina</td>\n",
              "    </tr>\n",
              "    <tr>\n",
              "      <th>2020-05-21 23:03:06.457819</th>\n",
              "      <td>maxim</td>\n",
              "    </tr>\n",
              "    <tr>\n",
              "      <th>2020-05-21 23:23:49.995349</th>\n",
              "      <td>pavel</td>\n",
              "    </tr>\n",
              "  </tbody>\n",
              "</table>\n",
              "<p>1072 rows × 1 columns</p>\n",
              "</div>"
            ],
            "text/plain": [
              "                                 user\n",
              "date_time                            \n",
              "2020-04-17 12:01:08.463179      artem\n",
              "2020-04-17 12:01:23.743946      artem\n",
              "2020-04-17 12:35:52.735016      artem\n",
              "2020-04-17 12:36:21.401412     oksana\n",
              "2020-04-17 12:36:22.023355     oksana\n",
              "...                               ...\n",
              "2020-05-21 16:36:40.915488  ekaterina\n",
              "2020-05-21 17:49:36.429237      maxim\n",
              "2020-05-21 18:45:20.441142  valentina\n",
              "2020-05-21 23:03:06.457819      maxim\n",
              "2020-05-21 23:23:49.995349      pavel\n",
              "\n",
              "[1072 rows x 1 columns]"
            ]
          },
          "execution_count": 11,
          "metadata": {},
          "output_type": "execute_result"
        }
      ],
      "source": [
        "df.index.names=['date_time']\n",
        "df"
      ]
    },
    {
      "cell_type": "markdown",
      "metadata": {
        "id": "KvzFqXpuZ1qk"
      },
      "source": [
        "# **to_csv:**"
      ]
    },
    {
      "cell_type": "code",
      "execution_count": 12,
      "metadata": {
        "colab": {
          "base_uri": "https://localhost:8080/",
          "height": 455
        },
        "id": "2oVHZjPaZ7T8",
        "outputId": "7de1e2cb-b823-4a03-fd9a-f59f03ab77af"
      },
      "outputs": [
        {
          "data": {
            "text/html": [
              "<div>\n",
              "<style scoped>\n",
              "    .dataframe tbody tr th:only-of-type {\n",
              "        vertical-align: middle;\n",
              "    }\n",
              "\n",
              "    .dataframe tbody tr th {\n",
              "        vertical-align: top;\n",
              "    }\n",
              "\n",
              "    .dataframe thead th {\n",
              "        text-align: right;\n",
              "    }\n",
              "</style>\n",
              "<table border=\"1\" class=\"dataframe\">\n",
              "  <thead>\n",
              "    <tr style=\"text-align: right;\">\n",
              "      <th></th>\n",
              "      <th>user</th>\n",
              "    </tr>\n",
              "    <tr>\n",
              "      <th>date_time</th>\n",
              "      <th></th>\n",
              "    </tr>\n",
              "  </thead>\n",
              "  <tbody>\n",
              "    <tr>\n",
              "      <th>2020-04-17 12:01:08.463179</th>\n",
              "      <td>artem</td>\n",
              "    </tr>\n",
              "    <tr>\n",
              "      <th>2020-04-17 12:01:23.743946</th>\n",
              "      <td>artem</td>\n",
              "    </tr>\n",
              "    <tr>\n",
              "      <th>2020-04-17 12:35:52.735016</th>\n",
              "      <td>artem</td>\n",
              "    </tr>\n",
              "    <tr>\n",
              "      <th>2020-04-17 12:36:21.401412</th>\n",
              "      <td>oksana</td>\n",
              "    </tr>\n",
              "    <tr>\n",
              "      <th>2020-04-17 12:36:22.023355</th>\n",
              "      <td>oksana</td>\n",
              "    </tr>\n",
              "    <tr>\n",
              "      <th>...</th>\n",
              "      <td>...</td>\n",
              "    </tr>\n",
              "    <tr>\n",
              "      <th>2020-05-21 16:36:40.915488</th>\n",
              "      <td>ekaterina</td>\n",
              "    </tr>\n",
              "    <tr>\n",
              "      <th>2020-05-21 17:49:36.429237</th>\n",
              "      <td>maxim</td>\n",
              "    </tr>\n",
              "    <tr>\n",
              "      <th>2020-05-21 18:45:20.441142</th>\n",
              "      <td>valentina</td>\n",
              "    </tr>\n",
              "    <tr>\n",
              "      <th>2020-05-21 23:03:06.457819</th>\n",
              "      <td>maxim</td>\n",
              "    </tr>\n",
              "    <tr>\n",
              "      <th>2020-05-21 23:23:49.995349</th>\n",
              "      <td>pavel</td>\n",
              "    </tr>\n",
              "  </tbody>\n",
              "</table>\n",
              "<p>1072 rows × 1 columns</p>\n",
              "</div>"
            ],
            "text/plain": [
              "                                 user\n",
              "date_time                            \n",
              "2020-04-17 12:01:08.463179      artem\n",
              "2020-04-17 12:01:23.743946      artem\n",
              "2020-04-17 12:35:52.735016      artem\n",
              "2020-04-17 12:36:21.401412     oksana\n",
              "2020-04-17 12:36:22.023355     oksana\n",
              "...                               ...\n",
              "2020-05-21 16:36:40.915488  ekaterina\n",
              "2020-05-21 17:49:36.429237      maxim\n",
              "2020-05-21 18:45:20.441142  valentina\n",
              "2020-05-21 23:03:06.457819      maxim\n",
              "2020-05-21 23:23:49.995349      pavel\n",
              "\n",
              "[1072 rows x 1 columns]"
            ]
          },
          "execution_count": 12,
          "metadata": {},
          "output_type": "execute_result"
        }
      ],
      "source": [
        "df.to_csv('../data/feed-views-semicolon.log', sep=';')\n",
        "df"
      ]
    },
    {
      "cell_type": "markdown",
      "metadata": {
        "id": "_AlzXJila5It"
      },
      "source": [
        "# **Tests:**"
      ]
    },
    {
      "cell_type": "code",
      "execution_count": 13,
      "metadata": {
        "colab": {
          "base_uri": "https://localhost:8080/"
        },
        "id": "HFot3mheayvF",
        "outputId": "bc51bd2a-6978-4a8f-85a3-20b7a5d2f6bd"
      },
      "outputs": [],
      "source": [
        "# df.count()"
      ]
    },
    {
      "cell_type": "code",
      "execution_count": 14,
      "metadata": {
        "colab": {
          "base_uri": "https://localhost:8080/",
          "height": 423
        },
        "id": "BB7VJjG0bCYl",
        "outputId": "11aa8134-c00a-45e4-c925-6778e04a717d"
      },
      "outputs": [],
      "source": [
        "# df2=pd.read_csv('../data/feed-views-semicolon.log', sep=';')\n",
        "# df2"
      ]
    },
    {
      "cell_type": "code",
      "execution_count": 15,
      "metadata": {
        "colab": {
          "base_uri": "https://localhost:8080/",
          "height": 206
        },
        "id": "2I-8QAkUb8Rz",
        "outputId": "94e1340d-8c5a-4330-d09c-b9bbf9741528"
      },
      "outputs": [],
      "source": [
        "# df2.head()"
      ]
    }
  ],
  "metadata": {
    "colab": {
      "provenance": []
    },
    "kernelspec": {
      "display_name": "Python 3",
      "name": "python3"
    },
    "language_info": {
      "codemirror_mode": {
        "name": "ipython",
        "version": 3
      },
      "file_extension": ".py",
      "mimetype": "text/x-python",
      "name": "python",
      "nbconvert_exporter": "python",
      "pygments_lexer": "ipython3",
      "version": "3.10.6"
    }
  },
  "nbformat": 4,
  "nbformat_minor": 0
}
