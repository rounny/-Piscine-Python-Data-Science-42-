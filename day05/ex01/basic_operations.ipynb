{
  "cells": [
    {
      "cell_type": "code",
      "execution_count": 1,
      "metadata": {
        "id": "7noQQW-ryvll"
      },
      "outputs": [],
      "source": [
        "import pandas as pd"
      ]
    },
    {
      "cell_type": "code",
      "execution_count": 2,
      "metadata": {
        "colab": {
          "base_uri": "https://localhost:8080/",
          "height": 441
        },
        "id": "9XunhEcGXgMI",
        "outputId": "0b4ead07-7df8-4f35-e7c6-25ff3f26416f"
      },
      "outputs": [
        {
          "data": {
            "text/html": [
              "<div>\n",
              "<style scoped>\n",
              "    .dataframe tbody tr th:only-of-type {\n",
              "        vertical-align: middle;\n",
              "    }\n",
              "\n",
              "    .dataframe tbody tr th {\n",
              "        vertical-align: top;\n",
              "    }\n",
              "\n",
              "    .dataframe thead th {\n",
              "        text-align: right;\n",
              "    }\n",
              "</style>\n",
              "<table border=\"1\" class=\"dataframe\">\n",
              "  <thead>\n",
              "    <tr style=\"text-align: right;\">\n",
              "      <th></th>\n",
              "      <th>datetime</th>\n",
              "      <th>user</th>\n",
              "    </tr>\n",
              "  </thead>\n",
              "  <tbody>\n",
              "    <tr>\n",
              "      <th>0</th>\n",
              "      <td>2020-04-17 12:01:08.463179</td>\n",
              "      <td>artem</td>\n",
              "    </tr>\n",
              "    <tr>\n",
              "      <th>1</th>\n",
              "      <td>2020-04-17 12:01:23.743946</td>\n",
              "      <td>artem</td>\n",
              "    </tr>\n",
              "    <tr>\n",
              "      <th>2</th>\n",
              "      <td>2020-04-17 12:27:30.646665</td>\n",
              "      <td>artem</td>\n",
              "    </tr>\n",
              "    <tr>\n",
              "      <th>3</th>\n",
              "      <td>2020-04-17 12:35:44.884757</td>\n",
              "      <td>artem</td>\n",
              "    </tr>\n",
              "    <tr>\n",
              "      <th>4</th>\n",
              "      <td>2020-04-17 12:35:52.735016</td>\n",
              "      <td>artem</td>\n",
              "    </tr>\n",
              "    <tr>\n",
              "      <th>...</th>\n",
              "      <td>...</td>\n",
              "      <td>...</td>\n",
              "    </tr>\n",
              "    <tr>\n",
              "      <th>1071</th>\n",
              "      <td>2020-05-21 18:45:20.441142</td>\n",
              "      <td>valentina</td>\n",
              "    </tr>\n",
              "    <tr>\n",
              "      <th>1072</th>\n",
              "      <td>2020-05-21 23:03:06.457819</td>\n",
              "      <td>maxim</td>\n",
              "    </tr>\n",
              "    <tr>\n",
              "      <th>1073</th>\n",
              "      <td>2020-05-21 23:23:49.995349</td>\n",
              "      <td>pavel</td>\n",
              "    </tr>\n",
              "    <tr>\n",
              "      <th>1074</th>\n",
              "      <td>2020-05-21 23:49:22.386789</td>\n",
              "      <td>artem</td>\n",
              "    </tr>\n",
              "    <tr>\n",
              "      <th>1075</th>\n",
              "      <td>2020-05-22 10:36:14.662600</td>\n",
              "      <td>artem</td>\n",
              "    </tr>\n",
              "  </tbody>\n",
              "</table>\n",
              "<p>1076 rows × 2 columns</p>\n",
              "</div>"
            ],
            "text/plain": [
              "                        datetime       user\n",
              "0     2020-04-17 12:01:08.463179      artem\n",
              "1     2020-04-17 12:01:23.743946      artem\n",
              "2     2020-04-17 12:27:30.646665      artem\n",
              "3     2020-04-17 12:35:44.884757      artem\n",
              "4     2020-04-17 12:35:52.735016      artem\n",
              "...                          ...        ...\n",
              "1071  2020-05-21 18:45:20.441142  valentina\n",
              "1072  2020-05-21 23:03:06.457819      maxim\n",
              "1073  2020-05-21 23:23:49.995349      pavel\n",
              "1074  2020-05-21 23:49:22.386789      artem\n",
              "1075  2020-05-22 10:36:14.662600      artem\n",
              "\n",
              "[1076 rows x 2 columns]"
            ]
          },
          "execution_count": 2,
          "metadata": {},
          "output_type": "execute_result"
        }
      ],
      "source": [
        "# если выполняется код из среды Google Colab, нужно подключить свой гугл-диск\n",
        "# from google.colab import drive\n",
        "# drive.mount('/content/drive')\n",
        "views = pd.read_csv('../data/feed-views.log', names=['datetime', 'user'], sep='\\t')\n",
        "views"
      ]
    },
    {
      "cell_type": "markdown",
      "metadata": {
        "id": "22XJoFFXBqDS"
      },
      "source": [
        "# **to_datetime**\n",
        "Конвертация столбца datetime в тип datetime64[ns] Dtype"
      ]
    },
    {
      "cell_type": "code",
      "execution_count": 3,
      "metadata": {
        "colab": {
          "base_uri": "https://localhost:8080/",
          "height": 423
        },
        "id": "ST9Y_LnlZbcM",
        "outputId": "02dd70cd-1b46-4e95-b26e-61cd26be30f1"
      },
      "outputs": [
        {
          "data": {
            "text/html": [
              "<div>\n",
              "<style scoped>\n",
              "    .dataframe tbody tr th:only-of-type {\n",
              "        vertical-align: middle;\n",
              "    }\n",
              "\n",
              "    .dataframe tbody tr th {\n",
              "        vertical-align: top;\n",
              "    }\n",
              "\n",
              "    .dataframe thead th {\n",
              "        text-align: right;\n",
              "    }\n",
              "</style>\n",
              "<table border=\"1\" class=\"dataframe\">\n",
              "  <thead>\n",
              "    <tr style=\"text-align: right;\">\n",
              "      <th></th>\n",
              "      <th>datetime</th>\n",
              "      <th>user</th>\n",
              "    </tr>\n",
              "  </thead>\n",
              "  <tbody>\n",
              "    <tr>\n",
              "      <th>0</th>\n",
              "      <td>2020-04-17 12:01:08.463179</td>\n",
              "      <td>artem</td>\n",
              "    </tr>\n",
              "    <tr>\n",
              "      <th>1</th>\n",
              "      <td>2020-04-17 12:01:23.743946</td>\n",
              "      <td>artem</td>\n",
              "    </tr>\n",
              "    <tr>\n",
              "      <th>2</th>\n",
              "      <td>2020-04-17 12:27:30.646665</td>\n",
              "      <td>artem</td>\n",
              "    </tr>\n",
              "    <tr>\n",
              "      <th>3</th>\n",
              "      <td>2020-04-17 12:35:44.884757</td>\n",
              "      <td>artem</td>\n",
              "    </tr>\n",
              "    <tr>\n",
              "      <th>4</th>\n",
              "      <td>2020-04-17 12:35:52.735016</td>\n",
              "      <td>artem</td>\n",
              "    </tr>\n",
              "    <tr>\n",
              "      <th>...</th>\n",
              "      <td>...</td>\n",
              "      <td>...</td>\n",
              "    </tr>\n",
              "    <tr>\n",
              "      <th>1071</th>\n",
              "      <td>2020-05-21 18:45:20.441142</td>\n",
              "      <td>valentina</td>\n",
              "    </tr>\n",
              "    <tr>\n",
              "      <th>1072</th>\n",
              "      <td>2020-05-21 23:03:06.457819</td>\n",
              "      <td>maxim</td>\n",
              "    </tr>\n",
              "    <tr>\n",
              "      <th>1073</th>\n",
              "      <td>2020-05-21 23:23:49.995349</td>\n",
              "      <td>pavel</td>\n",
              "    </tr>\n",
              "    <tr>\n",
              "      <th>1074</th>\n",
              "      <td>2020-05-21 23:49:22.386789</td>\n",
              "      <td>artem</td>\n",
              "    </tr>\n",
              "    <tr>\n",
              "      <th>1075</th>\n",
              "      <td>2020-05-22 10:36:14.662600</td>\n",
              "      <td>artem</td>\n",
              "    </tr>\n",
              "  </tbody>\n",
              "</table>\n",
              "<p>1076 rows × 2 columns</p>\n",
              "</div>"
            ],
            "text/plain": [
              "                       datetime       user\n",
              "0    2020-04-17 12:01:08.463179      artem\n",
              "1    2020-04-17 12:01:23.743946      artem\n",
              "2    2020-04-17 12:27:30.646665      artem\n",
              "3    2020-04-17 12:35:44.884757      artem\n",
              "4    2020-04-17 12:35:52.735016      artem\n",
              "...                         ...        ...\n",
              "1071 2020-05-21 18:45:20.441142  valentina\n",
              "1072 2020-05-21 23:03:06.457819      maxim\n",
              "1073 2020-05-21 23:23:49.995349      pavel\n",
              "1074 2020-05-21 23:49:22.386789      artem\n",
              "1075 2020-05-22 10:36:14.662600      artem\n",
              "\n",
              "[1076 rows x 2 columns]"
            ]
          },
          "execution_count": 3,
          "metadata": {},
          "output_type": "execute_result"
        }
      ],
      "source": [
        "views['datetime'] = pd.to_datetime(views['datetime'])\n",
        "views"
      ]
    },
    {
      "cell_type": "markdown",
      "metadata": {
        "id": "-HlLIIAqCkoy"
      },
      "source": [
        "Проверка, что наши данные соответствуют нужному типу"
      ]
    },
    {
      "cell_type": "code",
      "execution_count": 4,
      "metadata": {
        "colab": {
          "base_uri": "https://localhost:8080/"
        },
        "id": "Qp-HMpZShOyA",
        "outputId": "1857e630-fe9d-4f3a-9be3-03f5955e9ef8"
      },
      "outputs": [
        {
          "name": "stdout",
          "output_type": "stream",
          "text": [
            "<class 'pandas.core.frame.DataFrame'>\n",
            "RangeIndex: 1076 entries, 0 to 1075\n",
            "Data columns (total 2 columns):\n",
            " #   Column    Non-Null Count  Dtype         \n",
            "---  ------    --------------  -----         \n",
            " 0   datetime  1076 non-null   datetime64[ns]\n",
            " 1   user      1076 non-null   object        \n",
            "dtypes: datetime64[ns](1), object(1)\n",
            "memory usage: 16.9+ KB\n"
          ]
        }
      ],
      "source": [
        "views.info()"
      ]
    },
    {
      "cell_type": "markdown",
      "metadata": {
        "id": "m_J2MEJlC1iD"
      },
      "source": [
        "Извлечение данных(year, month, day, hour, minute, and second) из datetime в отдельные колонки"
      ]
    },
    {
      "cell_type": "code",
      "execution_count": 5,
      "metadata": {
        "colab": {
          "base_uri": "https://localhost:8080/",
          "height": 423
        },
        "id": "w8-kJN7FhSWB",
        "outputId": "f312effb-839a-45a4-9579-a8fc1643dff9"
      },
      "outputs": [
        {
          "data": {
            "text/html": [
              "<div>\n",
              "<style scoped>\n",
              "    .dataframe tbody tr th:only-of-type {\n",
              "        vertical-align: middle;\n",
              "    }\n",
              "\n",
              "    .dataframe tbody tr th {\n",
              "        vertical-align: top;\n",
              "    }\n",
              "\n",
              "    .dataframe thead th {\n",
              "        text-align: right;\n",
              "    }\n",
              "</style>\n",
              "<table border=\"1\" class=\"dataframe\">\n",
              "  <thead>\n",
              "    <tr style=\"text-align: right;\">\n",
              "      <th></th>\n",
              "      <th>datetime</th>\n",
              "      <th>user</th>\n",
              "      <th>year</th>\n",
              "      <th>month</th>\n",
              "      <th>day</th>\n",
              "      <th>hour</th>\n",
              "      <th>minute</th>\n",
              "      <th>second</th>\n",
              "    </tr>\n",
              "  </thead>\n",
              "  <tbody>\n",
              "    <tr>\n",
              "      <th>0</th>\n",
              "      <td>2020-04-17 12:01:08.463179</td>\n",
              "      <td>artem</td>\n",
              "      <td>2020</td>\n",
              "      <td>4</td>\n",
              "      <td>17</td>\n",
              "      <td>12</td>\n",
              "      <td>1</td>\n",
              "      <td>8</td>\n",
              "    </tr>\n",
              "    <tr>\n",
              "      <th>1</th>\n",
              "      <td>2020-04-17 12:01:23.743946</td>\n",
              "      <td>artem</td>\n",
              "      <td>2020</td>\n",
              "      <td>4</td>\n",
              "      <td>17</td>\n",
              "      <td>12</td>\n",
              "      <td>1</td>\n",
              "      <td>23</td>\n",
              "    </tr>\n",
              "    <tr>\n",
              "      <th>2</th>\n",
              "      <td>2020-04-17 12:27:30.646665</td>\n",
              "      <td>artem</td>\n",
              "      <td>2020</td>\n",
              "      <td>4</td>\n",
              "      <td>17</td>\n",
              "      <td>12</td>\n",
              "      <td>27</td>\n",
              "      <td>30</td>\n",
              "    </tr>\n",
              "    <tr>\n",
              "      <th>3</th>\n",
              "      <td>2020-04-17 12:35:44.884757</td>\n",
              "      <td>artem</td>\n",
              "      <td>2020</td>\n",
              "      <td>4</td>\n",
              "      <td>17</td>\n",
              "      <td>12</td>\n",
              "      <td>35</td>\n",
              "      <td>44</td>\n",
              "    </tr>\n",
              "    <tr>\n",
              "      <th>4</th>\n",
              "      <td>2020-04-17 12:35:52.735016</td>\n",
              "      <td>artem</td>\n",
              "      <td>2020</td>\n",
              "      <td>4</td>\n",
              "      <td>17</td>\n",
              "      <td>12</td>\n",
              "      <td>35</td>\n",
              "      <td>52</td>\n",
              "    </tr>\n",
              "    <tr>\n",
              "      <th>...</th>\n",
              "      <td>...</td>\n",
              "      <td>...</td>\n",
              "      <td>...</td>\n",
              "      <td>...</td>\n",
              "      <td>...</td>\n",
              "      <td>...</td>\n",
              "      <td>...</td>\n",
              "      <td>...</td>\n",
              "    </tr>\n",
              "    <tr>\n",
              "      <th>1071</th>\n",
              "      <td>2020-05-21 18:45:20.441142</td>\n",
              "      <td>valentina</td>\n",
              "      <td>2020</td>\n",
              "      <td>5</td>\n",
              "      <td>21</td>\n",
              "      <td>18</td>\n",
              "      <td>45</td>\n",
              "      <td>20</td>\n",
              "    </tr>\n",
              "    <tr>\n",
              "      <th>1072</th>\n",
              "      <td>2020-05-21 23:03:06.457819</td>\n",
              "      <td>maxim</td>\n",
              "      <td>2020</td>\n",
              "      <td>5</td>\n",
              "      <td>21</td>\n",
              "      <td>23</td>\n",
              "      <td>3</td>\n",
              "      <td>6</td>\n",
              "    </tr>\n",
              "    <tr>\n",
              "      <th>1073</th>\n",
              "      <td>2020-05-21 23:23:49.995349</td>\n",
              "      <td>pavel</td>\n",
              "      <td>2020</td>\n",
              "      <td>5</td>\n",
              "      <td>21</td>\n",
              "      <td>23</td>\n",
              "      <td>23</td>\n",
              "      <td>49</td>\n",
              "    </tr>\n",
              "    <tr>\n",
              "      <th>1074</th>\n",
              "      <td>2020-05-21 23:49:22.386789</td>\n",
              "      <td>artem</td>\n",
              "      <td>2020</td>\n",
              "      <td>5</td>\n",
              "      <td>21</td>\n",
              "      <td>23</td>\n",
              "      <td>49</td>\n",
              "      <td>22</td>\n",
              "    </tr>\n",
              "    <tr>\n",
              "      <th>1075</th>\n",
              "      <td>2020-05-22 10:36:14.662600</td>\n",
              "      <td>artem</td>\n",
              "      <td>2020</td>\n",
              "      <td>5</td>\n",
              "      <td>22</td>\n",
              "      <td>10</td>\n",
              "      <td>36</td>\n",
              "      <td>14</td>\n",
              "    </tr>\n",
              "  </tbody>\n",
              "</table>\n",
              "<p>1076 rows × 8 columns</p>\n",
              "</div>"
            ],
            "text/plain": [
              "                       datetime       user  year  month  day  hour  minute  \\\n",
              "0    2020-04-17 12:01:08.463179      artem  2020      4   17    12       1   \n",
              "1    2020-04-17 12:01:23.743946      artem  2020      4   17    12       1   \n",
              "2    2020-04-17 12:27:30.646665      artem  2020      4   17    12      27   \n",
              "3    2020-04-17 12:35:44.884757      artem  2020      4   17    12      35   \n",
              "4    2020-04-17 12:35:52.735016      artem  2020      4   17    12      35   \n",
              "...                         ...        ...   ...    ...  ...   ...     ...   \n",
              "1071 2020-05-21 18:45:20.441142  valentina  2020      5   21    18      45   \n",
              "1072 2020-05-21 23:03:06.457819      maxim  2020      5   21    23       3   \n",
              "1073 2020-05-21 23:23:49.995349      pavel  2020      5   21    23      23   \n",
              "1074 2020-05-21 23:49:22.386789      artem  2020      5   21    23      49   \n",
              "1075 2020-05-22 10:36:14.662600      artem  2020      5   22    10      36   \n",
              "\n",
              "      second  \n",
              "0          8  \n",
              "1         23  \n",
              "2         30  \n",
              "3         44  \n",
              "4         52  \n",
              "...      ...  \n",
              "1071      20  \n",
              "1072       6  \n",
              "1073      49  \n",
              "1074      22  \n",
              "1075      14  \n",
              "\n",
              "[1076 rows x 8 columns]"
            ]
          },
          "execution_count": 5,
          "metadata": {},
          "output_type": "execute_result"
        }
      ],
      "source": [
        "\n",
        "views['year'] = views['datetime'].dt.year\n",
        "views['month'] = views['datetime'].dt.month\n",
        "views['day'] = views['datetime'].dt.day\n",
        "views['hour'] = views['datetime'].dt.hour\n",
        "views['minute'] = views['datetime'].dt.minute\n",
        "views['second'] = views['datetime'].dt.second\n",
        "views"
      ]
    },
    {
      "cell_type": "markdown",
      "metadata": {
        "id": "LIORAuyCDYOe"
      },
      "source": [
        "# **Create a new column**\n",
        "С помощью cut для разделения элементов массива на отдельные контейнеры. \n",
        "bins - определяют границы для сегментации, right - указывает, включена ли правая граница, labels - метки для сегментов\n",
        "\n",
        "Индексация теперь по именам (user)"
      ]
    },
    {
      "cell_type": "code",
      "execution_count": 6,
      "metadata": {
        "colab": {
          "base_uri": "https://localhost:8080/",
          "height": 455
        },
        "id": "MNs9qsMbpa8D",
        "outputId": "013a61d2-1fbb-442b-d8bb-a91a8d81d8c5"
      },
      "outputs": [
        {
          "data": {
            "text/html": [
              "<div>\n",
              "<style scoped>\n",
              "    .dataframe tbody tr th:only-of-type {\n",
              "        vertical-align: middle;\n",
              "    }\n",
              "\n",
              "    .dataframe tbody tr th {\n",
              "        vertical-align: top;\n",
              "    }\n",
              "\n",
              "    .dataframe thead th {\n",
              "        text-align: right;\n",
              "    }\n",
              "</style>\n",
              "<table border=\"1\" class=\"dataframe\">\n",
              "  <thead>\n",
              "    <tr style=\"text-align: right;\">\n",
              "      <th></th>\n",
              "      <th>datetime</th>\n",
              "      <th>year</th>\n",
              "      <th>month</th>\n",
              "      <th>day</th>\n",
              "      <th>hour</th>\n",
              "      <th>minute</th>\n",
              "      <th>second</th>\n",
              "      <th>daytime</th>\n",
              "    </tr>\n",
              "    <tr>\n",
              "      <th>user</th>\n",
              "      <th></th>\n",
              "      <th></th>\n",
              "      <th></th>\n",
              "      <th></th>\n",
              "      <th></th>\n",
              "      <th></th>\n",
              "      <th></th>\n",
              "      <th></th>\n",
              "    </tr>\n",
              "  </thead>\n",
              "  <tbody>\n",
              "    <tr>\n",
              "      <th>artem</th>\n",
              "      <td>2020-04-17 12:01:08.463179</td>\n",
              "      <td>2020</td>\n",
              "      <td>4</td>\n",
              "      <td>17</td>\n",
              "      <td>12</td>\n",
              "      <td>1</td>\n",
              "      <td>8</td>\n",
              "      <td>afternoon</td>\n",
              "    </tr>\n",
              "    <tr>\n",
              "      <th>artem</th>\n",
              "      <td>2020-04-17 12:01:23.743946</td>\n",
              "      <td>2020</td>\n",
              "      <td>4</td>\n",
              "      <td>17</td>\n",
              "      <td>12</td>\n",
              "      <td>1</td>\n",
              "      <td>23</td>\n",
              "      <td>afternoon</td>\n",
              "    </tr>\n",
              "    <tr>\n",
              "      <th>artem</th>\n",
              "      <td>2020-04-17 12:27:30.646665</td>\n",
              "      <td>2020</td>\n",
              "      <td>4</td>\n",
              "      <td>17</td>\n",
              "      <td>12</td>\n",
              "      <td>27</td>\n",
              "      <td>30</td>\n",
              "      <td>afternoon</td>\n",
              "    </tr>\n",
              "    <tr>\n",
              "      <th>artem</th>\n",
              "      <td>2020-04-17 12:35:44.884757</td>\n",
              "      <td>2020</td>\n",
              "      <td>4</td>\n",
              "      <td>17</td>\n",
              "      <td>12</td>\n",
              "      <td>35</td>\n",
              "      <td>44</td>\n",
              "      <td>afternoon</td>\n",
              "    </tr>\n",
              "    <tr>\n",
              "      <th>artem</th>\n",
              "      <td>2020-04-17 12:35:52.735016</td>\n",
              "      <td>2020</td>\n",
              "      <td>4</td>\n",
              "      <td>17</td>\n",
              "      <td>12</td>\n",
              "      <td>35</td>\n",
              "      <td>52</td>\n",
              "      <td>afternoon</td>\n",
              "    </tr>\n",
              "    <tr>\n",
              "      <th>...</th>\n",
              "      <td>...</td>\n",
              "      <td>...</td>\n",
              "      <td>...</td>\n",
              "      <td>...</td>\n",
              "      <td>...</td>\n",
              "      <td>...</td>\n",
              "      <td>...</td>\n",
              "      <td>...</td>\n",
              "    </tr>\n",
              "    <tr>\n",
              "      <th>valentina</th>\n",
              "      <td>2020-05-21 18:45:20.441142</td>\n",
              "      <td>2020</td>\n",
              "      <td>5</td>\n",
              "      <td>21</td>\n",
              "      <td>18</td>\n",
              "      <td>45</td>\n",
              "      <td>20</td>\n",
              "      <td>early evening</td>\n",
              "    </tr>\n",
              "    <tr>\n",
              "      <th>maxim</th>\n",
              "      <td>2020-05-21 23:03:06.457819</td>\n",
              "      <td>2020</td>\n",
              "      <td>5</td>\n",
              "      <td>21</td>\n",
              "      <td>23</td>\n",
              "      <td>3</td>\n",
              "      <td>6</td>\n",
              "      <td>evening</td>\n",
              "    </tr>\n",
              "    <tr>\n",
              "      <th>pavel</th>\n",
              "      <td>2020-05-21 23:23:49.995349</td>\n",
              "      <td>2020</td>\n",
              "      <td>5</td>\n",
              "      <td>21</td>\n",
              "      <td>23</td>\n",
              "      <td>23</td>\n",
              "      <td>49</td>\n",
              "      <td>evening</td>\n",
              "    </tr>\n",
              "    <tr>\n",
              "      <th>artem</th>\n",
              "      <td>2020-05-21 23:49:22.386789</td>\n",
              "      <td>2020</td>\n",
              "      <td>5</td>\n",
              "      <td>21</td>\n",
              "      <td>23</td>\n",
              "      <td>49</td>\n",
              "      <td>22</td>\n",
              "      <td>evening</td>\n",
              "    </tr>\n",
              "    <tr>\n",
              "      <th>artem</th>\n",
              "      <td>2020-05-22 10:36:14.662600</td>\n",
              "      <td>2020</td>\n",
              "      <td>5</td>\n",
              "      <td>22</td>\n",
              "      <td>10</td>\n",
              "      <td>36</td>\n",
              "      <td>14</td>\n",
              "      <td>morning</td>\n",
              "    </tr>\n",
              "  </tbody>\n",
              "</table>\n",
              "<p>1076 rows × 8 columns</p>\n",
              "</div>"
            ],
            "text/plain": [
              "                            datetime  year  month  day  hour  minute  second  \\\n",
              "user                                                                           \n",
              "artem     2020-04-17 12:01:08.463179  2020      4   17    12       1       8   \n",
              "artem     2020-04-17 12:01:23.743946  2020      4   17    12       1      23   \n",
              "artem     2020-04-17 12:27:30.646665  2020      4   17    12      27      30   \n",
              "artem     2020-04-17 12:35:44.884757  2020      4   17    12      35      44   \n",
              "artem     2020-04-17 12:35:52.735016  2020      4   17    12      35      52   \n",
              "...                              ...   ...    ...  ...   ...     ...     ...   \n",
              "valentina 2020-05-21 18:45:20.441142  2020      5   21    18      45      20   \n",
              "maxim     2020-05-21 23:03:06.457819  2020      5   21    23       3       6   \n",
              "pavel     2020-05-21 23:23:49.995349  2020      5   21    23      23      49   \n",
              "artem     2020-05-21 23:49:22.386789  2020      5   21    23      49      22   \n",
              "artem     2020-05-22 10:36:14.662600  2020      5   22    10      36      14   \n",
              "\n",
              "                 daytime  \n",
              "user                      \n",
              "artem          afternoon  \n",
              "artem          afternoon  \n",
              "artem          afternoon  \n",
              "artem          afternoon  \n",
              "artem          afternoon  \n",
              "...                  ...  \n",
              "valentina  early evening  \n",
              "maxim            evening  \n",
              "pavel            evening  \n",
              "artem            evening  \n",
              "artem            morning  \n",
              "\n",
              "[1076 rows x 8 columns]"
            ]
          },
          "execution_count": 6,
          "metadata": {},
          "output_type": "execute_result"
        }
      ],
      "source": [
        "cut_labels = ['night', 'early morning', 'morning', 'afternoon', 'early evening', 'evening']\n",
        "cut_bins = [0, 4, 7, 11, 17, 20, 24]\n",
        "views['daytime'] = pd.cut(views['hour'],\n",
        "                        bins=cut_bins,\n",
        "                        labels=cut_labels,\n",
        "                        right=False)\n",
        "views = views.set_index('user')\n",
        "views"
      ]
    },
    {
      "cell_type": "markdown",
      "metadata": {
        "id": "c02Mz_b4KEi8"
      },
      "source": [
        "# **Count, value_counts**\n",
        "Подсчет количества элементов в датафрейме"
      ]
    },
    {
      "cell_type": "code",
      "execution_count": 7,
      "metadata": {
        "colab": {
          "base_uri": "https://localhost:8080/"
        },
        "id": "lz08ZEMA4hRI",
        "outputId": "5e2ebd09-cc13-46ea-b138-eab617c1574a"
      },
      "outputs": [
        {
          "data": {
            "text/plain": [
              "datetime    1076\n",
              "year        1076\n",
              "month       1076\n",
              "day         1076\n",
              "hour        1076\n",
              "minute      1076\n",
              "second      1076\n",
              "daytime     1076\n",
              "dtype: int64"
            ]
          },
          "execution_count": 7,
          "metadata": {},
          "output_type": "execute_result"
        }
      ],
      "source": [
        "views.count()"
      ]
    },
    {
      "cell_type": "markdown",
      "metadata": {
        "id": "2Fuh20RHKMh8"
      },
      "source": [
        "Подсчет количества элементов каждой категории для переменной daytime"
      ]
    },
    {
      "cell_type": "code",
      "execution_count": 8,
      "metadata": {
        "colab": {
          "base_uri": "https://localhost:8080/"
        },
        "id": "Ao5YSYff6ONQ",
        "outputId": "30839f6d-bb03-4793-c412-62d37f5d18f7"
      },
      "outputs": [
        {
          "data": {
            "text/plain": [
              "evening          509\n",
              "afternoon        252\n",
              "early evening    145\n",
              "night            129\n",
              "morning           36\n",
              "early morning      5\n",
              "Name: daytime, dtype: int64"
            ]
          },
          "execution_count": 8,
          "metadata": {},
          "output_type": "execute_result"
        }
      ],
      "source": [
        "views['daytime'].value_counts()"
      ]
    },
    {
      "cell_type": "markdown",
      "metadata": {
        "id": "rY8oKh4ZKp2k"
      },
      "source": [
        "# **Sort values**\n",
        "Сортировка по 'hour', 'minute', 'second' в порядке возрастания"
      ]
    },
    {
      "cell_type": "code",
      "execution_count": 9,
      "metadata": {
        "colab": {
          "base_uri": "https://localhost:8080/",
          "height": 455
        },
        "id": "34ZZcBkS7U4r",
        "outputId": "f9677f70-88d3-45fa-a773-5c046f3c3e6c"
      },
      "outputs": [
        {
          "data": {
            "text/html": [
              "<div>\n",
              "<style scoped>\n",
              "    .dataframe tbody tr th:only-of-type {\n",
              "        vertical-align: middle;\n",
              "    }\n",
              "\n",
              "    .dataframe tbody tr th {\n",
              "        vertical-align: top;\n",
              "    }\n",
              "\n",
              "    .dataframe thead th {\n",
              "        text-align: right;\n",
              "    }\n",
              "</style>\n",
              "<table border=\"1\" class=\"dataframe\">\n",
              "  <thead>\n",
              "    <tr style=\"text-align: right;\">\n",
              "      <th></th>\n",
              "      <th>datetime</th>\n",
              "      <th>year</th>\n",
              "      <th>month</th>\n",
              "      <th>day</th>\n",
              "      <th>hour</th>\n",
              "      <th>minute</th>\n",
              "      <th>second</th>\n",
              "      <th>daytime</th>\n",
              "    </tr>\n",
              "    <tr>\n",
              "      <th>user</th>\n",
              "      <th></th>\n",
              "      <th></th>\n",
              "      <th></th>\n",
              "      <th></th>\n",
              "      <th></th>\n",
              "      <th></th>\n",
              "      <th></th>\n",
              "      <th></th>\n",
              "    </tr>\n",
              "  </thead>\n",
              "  <tbody>\n",
              "    <tr>\n",
              "      <th>valentina</th>\n",
              "      <td>2020-05-15 00:00:13.222265</td>\n",
              "      <td>2020</td>\n",
              "      <td>5</td>\n",
              "      <td>15</td>\n",
              "      <td>0</td>\n",
              "      <td>0</td>\n",
              "      <td>13</td>\n",
              "      <td>night</td>\n",
              "    </tr>\n",
              "    <tr>\n",
              "      <th>valentina</th>\n",
              "      <td>2020-05-15 00:01:05.153738</td>\n",
              "      <td>2020</td>\n",
              "      <td>5</td>\n",
              "      <td>15</td>\n",
              "      <td>0</td>\n",
              "      <td>1</td>\n",
              "      <td>5</td>\n",
              "      <td>night</td>\n",
              "    </tr>\n",
              "    <tr>\n",
              "      <th>pavel</th>\n",
              "      <td>2020-05-12 00:01:27.764025</td>\n",
              "      <td>2020</td>\n",
              "      <td>5</td>\n",
              "      <td>12</td>\n",
              "      <td>0</td>\n",
              "      <td>1</td>\n",
              "      <td>27</td>\n",
              "      <td>night</td>\n",
              "    </tr>\n",
              "    <tr>\n",
              "      <th>pavel</th>\n",
              "      <td>2020-05-12 00:01:38.444917</td>\n",
              "      <td>2020</td>\n",
              "      <td>5</td>\n",
              "      <td>12</td>\n",
              "      <td>0</td>\n",
              "      <td>1</td>\n",
              "      <td>38</td>\n",
              "      <td>night</td>\n",
              "    </tr>\n",
              "    <tr>\n",
              "      <th>pavel</th>\n",
              "      <td>2020-05-12 00:01:55.395042</td>\n",
              "      <td>2020</td>\n",
              "      <td>5</td>\n",
              "      <td>12</td>\n",
              "      <td>0</td>\n",
              "      <td>1</td>\n",
              "      <td>55</td>\n",
              "      <td>night</td>\n",
              "    </tr>\n",
              "    <tr>\n",
              "      <th>...</th>\n",
              "      <td>...</td>\n",
              "      <td>...</td>\n",
              "      <td>...</td>\n",
              "      <td>...</td>\n",
              "      <td>...</td>\n",
              "      <td>...</td>\n",
              "      <td>...</td>\n",
              "      <td>...</td>\n",
              "    </tr>\n",
              "    <tr>\n",
              "      <th>artem</th>\n",
              "      <td>2020-05-21 23:49:22.386789</td>\n",
              "      <td>2020</td>\n",
              "      <td>5</td>\n",
              "      <td>21</td>\n",
              "      <td>23</td>\n",
              "      <td>49</td>\n",
              "      <td>22</td>\n",
              "      <td>evening</td>\n",
              "    </tr>\n",
              "    <tr>\n",
              "      <th>anatoliy</th>\n",
              "      <td>2020-05-09 23:53:55.599821</td>\n",
              "      <td>2020</td>\n",
              "      <td>5</td>\n",
              "      <td>9</td>\n",
              "      <td>23</td>\n",
              "      <td>53</td>\n",
              "      <td>55</td>\n",
              "      <td>evening</td>\n",
              "    </tr>\n",
              "    <tr>\n",
              "      <th>pavel</th>\n",
              "      <td>2020-05-09 23:54:54.260791</td>\n",
              "      <td>2020</td>\n",
              "      <td>5</td>\n",
              "      <td>9</td>\n",
              "      <td>23</td>\n",
              "      <td>54</td>\n",
              "      <td>54</td>\n",
              "      <td>evening</td>\n",
              "    </tr>\n",
              "    <tr>\n",
              "      <th>valentina</th>\n",
              "      <td>2020-05-14 23:58:56.754866</td>\n",
              "      <td>2020</td>\n",
              "      <td>5</td>\n",
              "      <td>14</td>\n",
              "      <td>23</td>\n",
              "      <td>58</td>\n",
              "      <td>56</td>\n",
              "      <td>evening</td>\n",
              "    </tr>\n",
              "    <tr>\n",
              "      <th>alexander</th>\n",
              "      <td>2020-05-14 23:59:38.758438</td>\n",
              "      <td>2020</td>\n",
              "      <td>5</td>\n",
              "      <td>14</td>\n",
              "      <td>23</td>\n",
              "      <td>59</td>\n",
              "      <td>38</td>\n",
              "      <td>evening</td>\n",
              "    </tr>\n",
              "  </tbody>\n",
              "</table>\n",
              "<p>1076 rows × 8 columns</p>\n",
              "</div>"
            ],
            "text/plain": [
              "                            datetime  year  month  day  hour  minute  second  \\\n",
              "user                                                                           \n",
              "valentina 2020-05-15 00:00:13.222265  2020      5   15     0       0      13   \n",
              "valentina 2020-05-15 00:01:05.153738  2020      5   15     0       1       5   \n",
              "pavel     2020-05-12 00:01:27.764025  2020      5   12     0       1      27   \n",
              "pavel     2020-05-12 00:01:38.444917  2020      5   12     0       1      38   \n",
              "pavel     2020-05-12 00:01:55.395042  2020      5   12     0       1      55   \n",
              "...                              ...   ...    ...  ...   ...     ...     ...   \n",
              "artem     2020-05-21 23:49:22.386789  2020      5   21    23      49      22   \n",
              "anatoliy  2020-05-09 23:53:55.599821  2020      5    9    23      53      55   \n",
              "pavel     2020-05-09 23:54:54.260791  2020      5    9    23      54      54   \n",
              "valentina 2020-05-14 23:58:56.754866  2020      5   14    23      58      56   \n",
              "alexander 2020-05-14 23:59:38.758438  2020      5   14    23      59      38   \n",
              "\n",
              "           daytime  \n",
              "user                \n",
              "valentina    night  \n",
              "valentina    night  \n",
              "pavel        night  \n",
              "pavel        night  \n",
              "pavel        night  \n",
              "...            ...  \n",
              "artem      evening  \n",
              "anatoliy   evening  \n",
              "pavel      evening  \n",
              "valentina  evening  \n",
              "alexander  evening  \n",
              "\n",
              "[1076 rows x 8 columns]"
            ]
          },
          "execution_count": 9,
          "metadata": {},
          "output_type": "execute_result"
        }
      ],
      "source": [
        "df = views.sort_values(['hour', 'minute', 'second'])\n",
        "df"
      ]
    },
    {
      "cell_type": "markdown",
      "metadata": {
        "id": "qyhlyV_oK5Tf"
      },
      "source": [
        "# **Max, min, mode**\n",
        "Подсчет максимальный час в категории 'night'"
      ]
    },
    {
      "cell_type": "code",
      "execution_count": 10,
      "metadata": {
        "colab": {
          "base_uri": "https://localhost:8080/"
        },
        "id": "jibEY8qN7rLR",
        "outputId": "968909c9-e081-4334-f9b0-689ec5122e76"
      },
      "outputs": [
        {
          "data": {
            "text/plain": [
              "3"
            ]
          },
          "execution_count": 10,
          "metadata": {},
          "output_type": "execute_result"
        }
      ],
      "source": [
        "views[views['daytime'] == 'night']['hour'].max()"
      ]
    },
    {
      "cell_type": "markdown",
      "metadata": {
        "id": "u_QyC2gdLGjk"
      },
      "source": [
        "Подсчет минимальный час в категории 'morning'"
      ]
    },
    {
      "cell_type": "code",
      "execution_count": 11,
      "metadata": {
        "colab": {
          "base_uri": "https://localhost:8080/"
        },
        "id": "PebNXPpy81Jy",
        "outputId": "3913eee4-4f84-4ae7-c6ef-e6241cca0719"
      },
      "outputs": [
        {
          "data": {
            "text/plain": [
              "8"
            ]
          },
          "execution_count": 11,
          "metadata": {},
          "output_type": "execute_result"
        }
      ],
      "source": [
        "views[views['daytime'] == 'morning']['hour'].min()"
      ]
    },
    {
      "cell_type": "markdown",
      "metadata": {
        "id": "HMYPVRocLPl0"
      },
      "source": [
        "Найти имена тех, кто посещал страницу в самое позднее время ночью"
      ]
    },
    {
      "cell_type": "code",
      "execution_count": 12,
      "metadata": {
        "colab": {
          "base_uri": "https://localhost:8080/",
          "height": 175
        },
        "id": "Zu4FLu_E9PcC",
        "outputId": "1e5b03db-6b79-4a8b-f175-a3ebdde2ee13"
      },
      "outputs": [
        {
          "data": {
            "text/html": [
              "<div>\n",
              "<style scoped>\n",
              "    .dataframe tbody tr th:only-of-type {\n",
              "        vertical-align: middle;\n",
              "    }\n",
              "\n",
              "    .dataframe tbody tr th {\n",
              "        vertical-align: top;\n",
              "    }\n",
              "\n",
              "    .dataframe thead th {\n",
              "        text-align: right;\n",
              "    }\n",
              "</style>\n",
              "<table border=\"1\" class=\"dataframe\">\n",
              "  <thead>\n",
              "    <tr style=\"text-align: right;\">\n",
              "      <th></th>\n",
              "      <th>datetime</th>\n",
              "      <th>year</th>\n",
              "      <th>month</th>\n",
              "      <th>day</th>\n",
              "      <th>hour</th>\n",
              "      <th>minute</th>\n",
              "      <th>second</th>\n",
              "      <th>daytime</th>\n",
              "    </tr>\n",
              "    <tr>\n",
              "      <th>user</th>\n",
              "      <th></th>\n",
              "      <th></th>\n",
              "      <th></th>\n",
              "      <th></th>\n",
              "      <th></th>\n",
              "      <th></th>\n",
              "      <th></th>\n",
              "      <th></th>\n",
              "    </tr>\n",
              "  </thead>\n",
              "  <tbody>\n",
              "    <tr>\n",
              "      <th>konstantin</th>\n",
              "      <td>2020-04-19 03:23:35.471598</td>\n",
              "      <td>2020</td>\n",
              "      <td>4</td>\n",
              "      <td>19</td>\n",
              "      <td>3</td>\n",
              "      <td>23</td>\n",
              "      <td>35</td>\n",
              "      <td>night</td>\n",
              "    </tr>\n",
              "    <tr>\n",
              "      <th>konstantin</th>\n",
              "      <td>2020-04-19 03:23:55.473926</td>\n",
              "      <td>2020</td>\n",
              "      <td>4</td>\n",
              "      <td>19</td>\n",
              "      <td>3</td>\n",
              "      <td>23</td>\n",
              "      <td>55</td>\n",
              "      <td>night</td>\n",
              "    </tr>\n",
              "    <tr>\n",
              "      <th>konstantin</th>\n",
              "      <td>2020-04-19 03:33:07.757714</td>\n",
              "      <td>2020</td>\n",
              "      <td>4</td>\n",
              "      <td>19</td>\n",
              "      <td>3</td>\n",
              "      <td>33</td>\n",
              "      <td>7</td>\n",
              "      <td>night</td>\n",
              "    </tr>\n",
              "  </tbody>\n",
              "</table>\n",
              "</div>"
            ],
            "text/plain": [
              "                             datetime  year  month  day  hour  minute  second  \\\n",
              "user                                                                            \n",
              "konstantin 2020-04-19 03:23:35.471598  2020      4   19     3      23      35   \n",
              "konstantin 2020-04-19 03:23:55.473926  2020      4   19     3      23      55   \n",
              "konstantin 2020-04-19 03:33:07.757714  2020      4   19     3      33       7   \n",
              "\n",
              "           daytime  \n",
              "user                \n",
              "konstantin   night  \n",
              "konstantin   night  \n",
              "konstantin   night  "
            ]
          },
          "execution_count": 12,
          "metadata": {},
          "output_type": "execute_result"
        }
      ],
      "source": [
        "views[(views['hour'] == views[views['daytime'] == 'night']['hour'].max())]"
      ]
    },
    {
      "cell_type": "markdown",
      "metadata": {
        "id": "QkQjBfNuLgnE"
      },
      "source": [
        "Найти имена тех, кто посещал страницу в самое раннее время утром"
      ]
    },
    {
      "cell_type": "code",
      "execution_count": 13,
      "metadata": {
        "colab": {
          "base_uri": "https://localhost:8080/",
          "height": 143
        },
        "id": "wDoQHzKx9vIv",
        "outputId": "9d58e264-bf1e-4841-afcb-3af6cf9a0dd3"
      },
      "outputs": [
        {
          "data": {
            "text/html": [
              "<div>\n",
              "<style scoped>\n",
              "    .dataframe tbody tr th:only-of-type {\n",
              "        vertical-align: middle;\n",
              "    }\n",
              "\n",
              "    .dataframe tbody tr th {\n",
              "        vertical-align: top;\n",
              "    }\n",
              "\n",
              "    .dataframe thead th {\n",
              "        text-align: right;\n",
              "    }\n",
              "</style>\n",
              "<table border=\"1\" class=\"dataframe\">\n",
              "  <thead>\n",
              "    <tr style=\"text-align: right;\">\n",
              "      <th></th>\n",
              "      <th>datetime</th>\n",
              "      <th>year</th>\n",
              "      <th>month</th>\n",
              "      <th>day</th>\n",
              "      <th>hour</th>\n",
              "      <th>minute</th>\n",
              "      <th>second</th>\n",
              "      <th>daytime</th>\n",
              "    </tr>\n",
              "    <tr>\n",
              "      <th>user</th>\n",
              "      <th></th>\n",
              "      <th></th>\n",
              "      <th></th>\n",
              "      <th></th>\n",
              "      <th></th>\n",
              "      <th></th>\n",
              "      <th></th>\n",
              "      <th></th>\n",
              "    </tr>\n",
              "  </thead>\n",
              "  <tbody>\n",
              "    <tr>\n",
              "      <th>alexander</th>\n",
              "      <td>2020-05-15 08:16:03.918402</td>\n",
              "      <td>2020</td>\n",
              "      <td>5</td>\n",
              "      <td>15</td>\n",
              "      <td>8</td>\n",
              "      <td>16</td>\n",
              "      <td>3</td>\n",
              "      <td>morning</td>\n",
              "    </tr>\n",
              "    <tr>\n",
              "      <th>alexander</th>\n",
              "      <td>2020-05-15 08:35:01.471463</td>\n",
              "      <td>2020</td>\n",
              "      <td>5</td>\n",
              "      <td>15</td>\n",
              "      <td>8</td>\n",
              "      <td>35</td>\n",
              "      <td>1</td>\n",
              "      <td>morning</td>\n",
              "    </tr>\n",
              "  </tbody>\n",
              "</table>\n",
              "</div>"
            ],
            "text/plain": [
              "                            datetime  year  month  day  hour  minute  second  \\\n",
              "user                                                                           \n",
              "alexander 2020-05-15 08:16:03.918402  2020      5   15     8      16       3   \n",
              "alexander 2020-05-15 08:35:01.471463  2020      5   15     8      35       1   \n",
              "\n",
              "           daytime  \n",
              "user                \n",
              "alexander  morning  \n",
              "alexander  morning  "
            ]
          },
          "execution_count": 13,
          "metadata": {},
          "output_type": "execute_result"
        }
      ],
      "source": [
        "views[(views['hour'] == views[views['daytime'] == 'morning']['hour'].min())]"
      ]
    },
    {
      "cell_type": "code",
      "execution_count": 14,
      "metadata": {
        "colab": {
          "base_uri": "https://localhost:8080/"
        },
        "id": "89K3DBDI9xWn",
        "outputId": "14bf1327-deab-4162-e7d8-6dafb16e1568"
      },
      "outputs": [
        {
          "data": {
            "text/plain": [
              "0    22\n",
              "Name: hour, dtype: int64"
            ]
          },
          "execution_count": 14,
          "metadata": {},
          "output_type": "execute_result"
        }
      ],
      "source": [
        "views['hour'].mode()"
      ]
    },
    {
      "cell_type": "code",
      "execution_count": 15,
      "metadata": {
        "colab": {
          "base_uri": "https://localhost:8080/"
        },
        "id": "uBXzAVSy_aI1",
        "outputId": "ace3a92a-df7e-4f01-d15a-350bfe54b2db"
      },
      "outputs": [
        {
          "data": {
            "text/plain": [
              "0    evening\n",
              "Name: daytime, dtype: category\n",
              "Categories (6, object): ['night' < 'early morning' < 'morning' < 'afternoon' < 'early evening' < 'evening']"
            ]
          },
          "execution_count": 15,
          "metadata": {},
          "output_type": "execute_result"
        }
      ],
      "source": [
        "views['daytime'].mode()"
      ]
    },
    {
      "cell_type": "code",
      "execution_count": 16,
      "metadata": {
        "colab": {
          "base_uri": "https://localhost:8080/",
          "height": 175
        },
        "id": "K7a2gZ0C_q0V",
        "outputId": "6bf95b8b-012c-49db-c55b-4c9049b6080a"
      },
      "outputs": [
        {
          "data": {
            "text/html": [
              "<div>\n",
              "<style scoped>\n",
              "    .dataframe tbody tr th:only-of-type {\n",
              "        vertical-align: middle;\n",
              "    }\n",
              "\n",
              "    .dataframe tbody tr th {\n",
              "        vertical-align: top;\n",
              "    }\n",
              "\n",
              "    .dataframe thead th {\n",
              "        text-align: right;\n",
              "    }\n",
              "</style>\n",
              "<table border=\"1\" class=\"dataframe\">\n",
              "  <thead>\n",
              "    <tr style=\"text-align: right;\">\n",
              "      <th></th>\n",
              "      <th>datetime</th>\n",
              "      <th>year</th>\n",
              "      <th>month</th>\n",
              "      <th>day</th>\n",
              "      <th>hour</th>\n",
              "      <th>minute</th>\n",
              "      <th>second</th>\n",
              "      <th>daytime</th>\n",
              "    </tr>\n",
              "    <tr>\n",
              "      <th>user</th>\n",
              "      <th></th>\n",
              "      <th></th>\n",
              "      <th></th>\n",
              "      <th></th>\n",
              "      <th></th>\n",
              "      <th></th>\n",
              "      <th></th>\n",
              "      <th></th>\n",
              "    </tr>\n",
              "  </thead>\n",
              "  <tbody>\n",
              "    <tr>\n",
              "      <th>alexander</th>\n",
              "      <td>2020-05-15 08:16:03.918402</td>\n",
              "      <td>2020</td>\n",
              "      <td>5</td>\n",
              "      <td>15</td>\n",
              "      <td>8</td>\n",
              "      <td>16</td>\n",
              "      <td>3</td>\n",
              "      <td>morning</td>\n",
              "    </tr>\n",
              "    <tr>\n",
              "      <th>alexander</th>\n",
              "      <td>2020-05-15 08:35:01.471463</td>\n",
              "      <td>2020</td>\n",
              "      <td>5</td>\n",
              "      <td>15</td>\n",
              "      <td>8</td>\n",
              "      <td>35</td>\n",
              "      <td>1</td>\n",
              "      <td>morning</td>\n",
              "    </tr>\n",
              "    <tr>\n",
              "      <th>artem</th>\n",
              "      <td>2020-04-24 09:42:47.598208</td>\n",
              "      <td>2020</td>\n",
              "      <td>4</td>\n",
              "      <td>24</td>\n",
              "      <td>9</td>\n",
              "      <td>42</td>\n",
              "      <td>47</td>\n",
              "      <td>morning</td>\n",
              "    </tr>\n",
              "  </tbody>\n",
              "</table>\n",
              "</div>"
            ],
            "text/plain": [
              "                            datetime  year  month  day  hour  minute  second  \\\n",
              "user                                                                           \n",
              "alexander 2020-05-15 08:16:03.918402  2020      5   15     8      16       3   \n",
              "alexander 2020-05-15 08:35:01.471463  2020      5   15     8      35       1   \n",
              "artem     2020-04-24 09:42:47.598208  2020      4   24     9      42      47   \n",
              "\n",
              "           daytime  \n",
              "user                \n",
              "alexander  morning  \n",
              "alexander  morning  \n",
              "artem      morning  "
            ]
          },
          "execution_count": 16,
          "metadata": {},
          "output_type": "execute_result"
        }
      ],
      "source": [
        "morning = views.loc[views['daytime'] == 'morning']\n",
        "morning.nsmallest(3, 'hour')"
      ]
    },
    {
      "cell_type": "code",
      "execution_count": 17,
      "metadata": {
        "colab": {
          "base_uri": "https://localhost:8080/",
          "height": 175
        },
        "id": "41hvvRVt__J9",
        "outputId": "0ccc725e-738a-4c10-f024-396a188ef8dd"
      },
      "outputs": [
        {
          "data": {
            "text/html": [
              "<div>\n",
              "<style scoped>\n",
              "    .dataframe tbody tr th:only-of-type {\n",
              "        vertical-align: middle;\n",
              "    }\n",
              "\n",
              "    .dataframe tbody tr th {\n",
              "        vertical-align: top;\n",
              "    }\n",
              "\n",
              "    .dataframe thead th {\n",
              "        text-align: right;\n",
              "    }\n",
              "</style>\n",
              "<table border=\"1\" class=\"dataframe\">\n",
              "  <thead>\n",
              "    <tr style=\"text-align: right;\">\n",
              "      <th></th>\n",
              "      <th>datetime</th>\n",
              "      <th>year</th>\n",
              "      <th>month</th>\n",
              "      <th>day</th>\n",
              "      <th>hour</th>\n",
              "      <th>minute</th>\n",
              "      <th>second</th>\n",
              "      <th>daytime</th>\n",
              "    </tr>\n",
              "    <tr>\n",
              "      <th>user</th>\n",
              "      <th></th>\n",
              "      <th></th>\n",
              "      <th></th>\n",
              "      <th></th>\n",
              "      <th></th>\n",
              "      <th></th>\n",
              "      <th></th>\n",
              "      <th></th>\n",
              "    </tr>\n",
              "  </thead>\n",
              "  <tbody>\n",
              "    <tr>\n",
              "      <th>konstantin</th>\n",
              "      <td>2020-04-18 10:53:52.623447</td>\n",
              "      <td>2020</td>\n",
              "      <td>4</td>\n",
              "      <td>18</td>\n",
              "      <td>10</td>\n",
              "      <td>53</td>\n",
              "      <td>52</td>\n",
              "      <td>morning</td>\n",
              "    </tr>\n",
              "    <tr>\n",
              "      <th>maxim</th>\n",
              "      <td>2020-04-18 10:56:55.833899</td>\n",
              "      <td>2020</td>\n",
              "      <td>4</td>\n",
              "      <td>18</td>\n",
              "      <td>10</td>\n",
              "      <td>56</td>\n",
              "      <td>55</td>\n",
              "      <td>morning</td>\n",
              "    </tr>\n",
              "    <tr>\n",
              "      <th>konstantin</th>\n",
              "      <td>2020-04-18 10:57:37.331258</td>\n",
              "      <td>2020</td>\n",
              "      <td>4</td>\n",
              "      <td>18</td>\n",
              "      <td>10</td>\n",
              "      <td>57</td>\n",
              "      <td>37</td>\n",
              "      <td>morning</td>\n",
              "    </tr>\n",
              "  </tbody>\n",
              "</table>\n",
              "</div>"
            ],
            "text/plain": [
              "                             datetime  year  month  day  hour  minute  second  \\\n",
              "user                                                                            \n",
              "konstantin 2020-04-18 10:53:52.623447  2020      4   18    10      53      52   \n",
              "maxim      2020-04-18 10:56:55.833899  2020      4   18    10      56      55   \n",
              "konstantin 2020-04-18 10:57:37.331258  2020      4   18    10      57      37   \n",
              "\n",
              "            daytime  \n",
              "user                 \n",
              "konstantin  morning  \n",
              "maxim       morning  \n",
              "konstantin  morning  "
            ]
          },
          "execution_count": 17,
          "metadata": {},
          "output_type": "execute_result"
        }
      ],
      "source": [
        "mornin = views.loc[views['datetime'] == 'morning']\n",
        "morning.nlargest(3, 'hour')"
      ]
    },
    {
      "cell_type": "markdown",
      "metadata": {
        "id": "estFb8A1L-wc"
      },
      "source": [
        "# **Describe**\n",
        "Описательная статистика"
      ]
    },
    {
      "cell_type": "code",
      "execution_count": 18,
      "metadata": {
        "colab": {
          "base_uri": "https://localhost:8080/",
          "height": 300
        },
        "id": "yTi4hMJ6Ag6k",
        "outputId": "321bc744-ddcd-47dc-e43f-9d079a57ab68"
      },
      "outputs": [
        {
          "data": {
            "text/html": [
              "<div>\n",
              "<style scoped>\n",
              "    .dataframe tbody tr th:only-of-type {\n",
              "        vertical-align: middle;\n",
              "    }\n",
              "\n",
              "    .dataframe tbody tr th {\n",
              "        vertical-align: top;\n",
              "    }\n",
              "\n",
              "    .dataframe thead th {\n",
              "        text-align: right;\n",
              "    }\n",
              "</style>\n",
              "<table border=\"1\" class=\"dataframe\">\n",
              "  <thead>\n",
              "    <tr style=\"text-align: right;\">\n",
              "      <th></th>\n",
              "      <th>year</th>\n",
              "      <th>month</th>\n",
              "      <th>day</th>\n",
              "      <th>hour</th>\n",
              "      <th>minute</th>\n",
              "      <th>second</th>\n",
              "    </tr>\n",
              "  </thead>\n",
              "  <tbody>\n",
              "    <tr>\n",
              "      <th>count</th>\n",
              "      <td>1076.0</td>\n",
              "      <td>1076.000000</td>\n",
              "      <td>1076.000000</td>\n",
              "      <td>1076.000000</td>\n",
              "      <td>1076.000000</td>\n",
              "      <td>1076.000000</td>\n",
              "    </tr>\n",
              "    <tr>\n",
              "      <th>mean</th>\n",
              "      <td>2020.0</td>\n",
              "      <td>4.870818</td>\n",
              "      <td>13.552974</td>\n",
              "      <td>16.249071</td>\n",
              "      <td>29.629182</td>\n",
              "      <td>29.500929</td>\n",
              "    </tr>\n",
              "    <tr>\n",
              "      <th>std</th>\n",
              "      <td>0.0</td>\n",
              "      <td>0.335557</td>\n",
              "      <td>4.906567</td>\n",
              "      <td>6.955490</td>\n",
              "      <td>17.689388</td>\n",
              "      <td>17.405506</td>\n",
              "    </tr>\n",
              "    <tr>\n",
              "      <th>min</th>\n",
              "      <td>2020.0</td>\n",
              "      <td>4.000000</td>\n",
              "      <td>1.000000</td>\n",
              "      <td>0.000000</td>\n",
              "      <td>0.000000</td>\n",
              "      <td>0.000000</td>\n",
              "    </tr>\n",
              "    <tr>\n",
              "      <th>25%</th>\n",
              "      <td>2020.0</td>\n",
              "      <td>5.000000</td>\n",
              "      <td>11.000000</td>\n",
              "      <td>13.000000</td>\n",
              "      <td>14.000000</td>\n",
              "      <td>14.000000</td>\n",
              "    </tr>\n",
              "    <tr>\n",
              "      <th>50%</th>\n",
              "      <td>2020.0</td>\n",
              "      <td>5.000000</td>\n",
              "      <td>13.000000</td>\n",
              "      <td>19.000000</td>\n",
              "      <td>29.000000</td>\n",
              "      <td>30.000000</td>\n",
              "    </tr>\n",
              "    <tr>\n",
              "      <th>75%</th>\n",
              "      <td>2020.0</td>\n",
              "      <td>5.000000</td>\n",
              "      <td>15.000000</td>\n",
              "      <td>22.000000</td>\n",
              "      <td>46.000000</td>\n",
              "      <td>45.000000</td>\n",
              "    </tr>\n",
              "    <tr>\n",
              "      <th>max</th>\n",
              "      <td>2020.0</td>\n",
              "      <td>5.000000</td>\n",
              "      <td>30.000000</td>\n",
              "      <td>23.000000</td>\n",
              "      <td>59.000000</td>\n",
              "      <td>59.000000</td>\n",
              "    </tr>\n",
              "  </tbody>\n",
              "</table>\n",
              "</div>"
            ],
            "text/plain": [
              "         year        month          day         hour       minute       second\n",
              "count  1076.0  1076.000000  1076.000000  1076.000000  1076.000000  1076.000000\n",
              "mean   2020.0     4.870818    13.552974    16.249071    29.629182    29.500929\n",
              "std       0.0     0.335557     4.906567     6.955490    17.689388    17.405506\n",
              "min    2020.0     4.000000     1.000000     0.000000     0.000000     0.000000\n",
              "25%    2020.0     5.000000    11.000000    13.000000    14.000000    14.000000\n",
              "50%    2020.0     5.000000    13.000000    19.000000    29.000000    30.000000\n",
              "75%    2020.0     5.000000    15.000000    22.000000    46.000000    45.000000\n",
              "max    2020.0     5.000000    30.000000    23.000000    59.000000    59.000000"
            ]
          },
          "execution_count": 18,
          "metadata": {},
          "output_type": "execute_result"
        }
      ],
      "source": [
        "views.describe()"
      ]
    },
    {
      "cell_type": "markdown",
      "metadata": {
        "id": "vM6RY1avMFGt"
      },
      "source": [
        "Подсчитать межквартильный размах"
      ]
    },
    {
      "cell_type": "code",
      "execution_count": 19,
      "metadata": {
        "colab": {
          "base_uri": "https://localhost:8080/"
        },
        "id": "y1AoAT2ZAqfr",
        "outputId": "5714b0de-ad74-48ba-c670-3771b5a06003"
      },
      "outputs": [
        {
          "name": "stdout",
          "output_type": "stream",
          "text": [
            "iqr : 9.0\n"
          ]
        }
      ],
      "source": [
        "q_1 = views.describe().loc['25%', 'hour']\n",
        "q_3 = views.describe().loc['75%', 'hour']\n",
        "iqr = q_3 - q_1\n",
        "print(f'iqr : {iqr}')"
      ]
    }
  ],
  "metadata": {
    "colab": {
      "provenance": []
    },
    "kernelspec": {
      "display_name": "Python 3",
      "name": "python3"
    },
    "language_info": {
      "codemirror_mode": {
        "name": "ipython",
        "version": 3
      },
      "file_extension": ".py",
      "mimetype": "text/x-python",
      "name": "python",
      "nbconvert_exporter": "python",
      "pygments_lexer": "ipython3",
      "version": "3.10.6"
    }
  },
  "nbformat": 4,
  "nbformat_minor": 0
}
